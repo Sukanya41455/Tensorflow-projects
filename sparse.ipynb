{
  "cells": [
    {
      "cell_type": "markdown",
      "metadata": {
        "id": "view-in-github",
        "colab_type": "text"
      },
      "source": [
        "<a href=\"https://colab.research.google.com/github/Sukanya41455/Tensorflow_practice/blob/main/sparse.ipynb\" target=\"_parent\"><img src=\"https://colab.research.google.com/assets/colab-badge.svg\" alt=\"Open In Colab\"/></a>"
      ]
    },
    {
      "cell_type": "code",
      "execution_count": null,
      "metadata": {
        "id": "pTLHo-yhSuvh"
      },
      "outputs": [],
      "source": [
        "import tensorflow as tf"
      ]
    },
    {
      "cell_type": "code",
      "execution_count": null,
      "metadata": {
        "colab": {
          "base_uri": "https://localhost:8080/"
        },
        "id": "NqOcscRdSzHT",
        "outputId": "6d6263df-83da-4e10-ee6f-65e8b61a965a"
      },
      "outputs": [
        {
          "name": "stdout",
          "output_type": "stream",
          "text": [
            "SparseTensor(indices=tf.Tensor(\n",
            "[[0 3]\n",
            " [2 4]], shape=(2, 2), dtype=int64), values=tf.Tensor([10 20], shape=(2,), dtype=int32), dense_shape=tf.Tensor([ 3 10], shape=(2,), dtype=int64))\n"
          ]
        }
      ],
      "source": [
        "st1 = tf.sparse.SparseTensor(indices=[[0,3],[2,4]],\n",
        "                             values=[10,20],\n",
        "                             dense_shape=[3,10])\n",
        "print(st1)"
      ]
    },
    {
      "cell_type": "code",
      "execution_count": null,
      "metadata": {
        "colab": {
          "base_uri": "https://localhost:8080/"
        },
        "id": "wHtmPBIqTDM6",
        "outputId": "d122ae17-4b4c-4894-c773-decc28048be3"
      },
      "outputs": [
        {
          "name": "stdout",
          "output_type": "stream",
          "text": [
            "Sparse Tensor shape=[3, 10] \n",
            " values={\n",
            " [0, 3]: 10\n",
            " [2, 4]: 20}>\n"
          ]
        }
      ],
      "source": [
        "def print_sparse_tensor(st):\n",
        "  s= \"Sparse Tensor shape=%s \\n values={\"%(st.dense_shape.numpy().tolist(),)\n",
        "  for ind,val in zip(st.indices, st.values):\n",
        "    s+= f\"\\n %s: %s\" % (ind.numpy().tolist(), val.numpy().tolist())\n",
        "  return s+\"}>\"\n",
        "\n",
        "\n",
        "print(print_sparse_tensor(st1))"
      ]
    },
    {
      "cell_type": "code",
      "execution_count": null,
      "metadata": {
        "colab": {
          "base_uri": "https://localhost:8080/"
        },
        "id": "3cXAe6trT21R",
        "outputId": "62002a00-9060-4e84-a006-46b7e8140298"
      },
      "outputs": [
        {
          "name": "stdout",
          "output_type": "stream",
          "text": [
            "Sparse Tensor shape=[3, 4] \n",
            " values={\n",
            " [0, 0]: 1\n",
            " [0, 3]: 8\n",
            " [2, 2]: 3}>\n"
          ]
        }
      ],
      "source": [
        "st2 = tf.sparse.from_dense([[1, 0, 0, 8], [0, 0, 0, 0], [0, 0, 3, 0]])\n",
        "print(print_sparse_tensor(st2))"
      ]
    },
    {
      "cell_type": "code",
      "execution_count": null,
      "metadata": {
        "colab": {
          "base_uri": "https://localhost:8080/"
        },
        "id": "OHQlglbOUIzK",
        "outputId": "062afcd0-7fad-4758-8df1-0eb032f326c5"
      },
      "outputs": [
        {
          "name": "stdout",
          "output_type": "stream",
          "text": [
            "SparseTensor(indices=tf.Tensor(\n",
            "[[0 0]\n",
            " [0 3]\n",
            " [2 2]], shape=(3, 2), dtype=int64), values=tf.Tensor([1 8 3], shape=(3,), dtype=int32), dense_shape=tf.Tensor([3 4], shape=(2,), dtype=int64))\n"
          ]
        }
      ],
      "source": [
        "print(st2)"
      ]
    },
    {
      "cell_type": "code",
      "execution_count": null,
      "metadata": {
        "colab": {
          "base_uri": "https://localhost:8080/"
        },
        "id": "9E4mRFIoUTDV",
        "outputId": "5c17e30d-d09d-46e3-c5e0-f143f3bd2abe"
      },
      "outputs": [
        {
          "name": "stdout",
          "output_type": "stream",
          "text": [
            "tf.Tensor(\n",
            "[[1 0 0 8]\n",
            " [0 0 0 0]\n",
            " [0 0 3 0]], shape=(3, 4), dtype=int32)\n"
          ]
        }
      ],
      "source": [
        "st3 = tf.sparse.to_dense(st2)\n",
        "print(st3)"
      ]
    },
    {
      "cell_type": "code",
      "execution_count": null,
      "metadata": {
        "colab": {
          "base_uri": "https://localhost:8080/"
        },
        "id": "_5gDRmIlUadQ",
        "outputId": "b0210e69-b773-45be-ab55-383a653c6e3d"
      },
      "outputs": [
        {
          "name": "stdout",
          "output_type": "stream",
          "text": [
            "SparseTensor(indices=tf.Tensor(\n",
            "[[0 2]\n",
            " [3 4]], shape=(2, 2), dtype=int64), values=tf.Tensor([31  2], shape=(2,), dtype=int32), dense_shape=tf.Tensor([ 4 10], shape=(2,), dtype=int64))\n",
            "SparseTensor(indices=tf.Tensor(\n",
            "[[0 2]\n",
            " [7 0]], shape=(2, 2), dtype=int64), values=tf.Tensor([56 38], shape=(2,), dtype=int32), dense_shape=tf.Tensor([ 4 10], shape=(2,), dtype=int64))\n",
            "Sparse Tensor shape=[4, 10] \n",
            " values={\n",
            " [0, 2]: 87\n",
            " [3, 4]: 2\n",
            " [7, 0]: 38}>\n"
          ]
        }
      ],
      "source": [
        "sta = tf.sparse.SparseTensor(indices=[[0,2],[3,4]],\n",
        "                             values=[31,2],\n",
        "                             dense_shape=[4,10])\n",
        "stb = tf.sparse.SparseTensor(indices=[[0,2],[7,0]],\n",
        "                             values=[56,38],\n",
        "                             dense_shape=[4,10])\n",
        "stsum = tf.sparse.add(sta,stb)\n",
        "print(sta)\n",
        "print(stb)\n",
        "print(print_sparse_tensor(stsum))\n"
      ]
    },
    {
      "cell_type": "code",
      "execution_count": null,
      "metadata": {
        "colab": {
          "base_uri": "https://localhost:8080/"
        },
        "id": "ZOkW_moDVELY",
        "outputId": "69c3c998-17c4-4b27-c120-463d6fe8ea68"
      },
      "outputs": [
        {
          "name": "stdout",
          "output_type": "stream",
          "text": [
            "SparseTensor(indices=tf.Tensor(\n",
            "[[0 1]\n",
            " [1 0]\n",
            " [1 1]], shape=(3, 2), dtype=int64), values=tf.Tensor([13 15 17], shape=(3,), dtype=int32), dense_shape=tf.Tensor([2 2], shape=(2,), dtype=int64))\n",
            "tf.Tensor(\n",
            "[[4]\n",
            " [6]], shape=(2, 1), dtype=int32)\n",
            "tf.Tensor(\n",
            "[[ 78]\n",
            " [162]], shape=(2, 1), dtype=int32)\n"
          ]
        }
      ],
      "source": [
        "st_c = tf.sparse.SparseTensor(indices=([0, 1], [1, 0], [1, 1]),\n",
        "                       values=[13, 15, 17],\n",
        "                       dense_shape=(2,2))\n",
        "\n",
        "print(st_c)\n",
        "mb = tf.constant([[4],[6]])\n",
        "print(mb)\n",
        "product = tf.sparse.sparse_dense_matmul(st_c,mb)\n",
        "print(product)"
      ]
    },
    {
      "cell_type": "code",
      "execution_count": null,
      "metadata": {
        "colab": {
          "base_uri": "https://localhost:8080/"
        },
        "id": "SK3IigX8V0Z1",
        "outputId": "5fd774a4-fb10-455c-beda-113bb64363ef"
      },
      "outputs": [
        {
          "name": "stdout",
          "output_type": "stream",
          "text": [
            "tf.Tensor(\n",
            "[[0 0 0 0 0]\n",
            " [0 0 0 0 0]\n",
            " [0 0 0 0 1]\n",
            " [0 0 0 1 1]\n",
            " [0 0 0 1 1]\n",
            " [0 0 0 0 1]\n",
            " [0 0 0 0 0]\n",
            " [0 0 0 0 0]], shape=(8, 5), dtype=int32)\n",
            "tf.Tensor(\n",
            "[[0 0 1 0 0 0]\n",
            " [0 1 0 1 0 0]\n",
            " [1 0 0 0 1 1]\n",
            " [0 0 0 0 0 1]\n",
            " [0 0 0 0 0 1]\n",
            " [1 0 0 0 1 1]\n",
            " [0 1 0 1 0 0]\n",
            " [0 0 1 0 0 0]], shape=(8, 6), dtype=int32)\n",
            "tf.Tensor(\n",
            "[[0 0 0 0 0 0]\n",
            " [0 0 0 0 0 0]\n",
            " [0 0 0 0 0 0]\n",
            " [1 0 0 0 0 0]\n",
            " [1 0 0 0 0 0]\n",
            " [0 0 0 0 0 0]\n",
            " [0 0 0 0 0 0]\n",
            " [0 0 0 0 0 0]], shape=(8, 6), dtype=int32)\n",
            "tf.Tensor(\n",
            "[[0 0 0 0 0 0 0 1 0 0 0 0 0 0 0 0 0]\n",
            " [0 0 0 0 0 0 1 0 1 0 0 0 0 0 0 0 0]\n",
            " [0 0 0 0 1 1 0 0 0 1 1 0 0 0 0 0 0]\n",
            " [0 0 0 1 1 0 0 0 0 0 1 1 0 0 0 0 0]\n",
            " [0 0 0 1 1 0 0 0 0 0 1 1 0 0 0 0 0]\n",
            " [0 0 0 0 1 1 0 0 0 1 1 0 0 0 0 0 0]\n",
            " [0 0 0 0 0 0 1 0 1 0 0 0 0 0 0 0 0]\n",
            " [0 0 0 0 0 0 0 1 0 0 0 0 0 0 0 0 0]], shape=(8, 17), dtype=int32)\n"
          ]
        }
      ],
      "source": [
        "sparse_pattern_A = tf.sparse.SparseTensor(indices = [[2,4], [3,3], [3,4], [4,3], [4,4], [5,4]],\n",
        "                         values = [1,1,1,1,1,1],\n",
        "                         dense_shape = [8,5])\n",
        "sparse_pattern_B = tf.sparse.SparseTensor(indices = [[0,2], [1,1], [1,3], [2,0], [2,4], [2,5], [3,5], \n",
        "                                              [4,5], [5,0], [5,4], [5,5], [6,1], [6,3], [7,2]],\n",
        "                         values = [1,1,1,1,1,1,1,1,1,1,1,1,1,1],\n",
        "                         dense_shape = [8,6])\n",
        "sparse_pattern_C = tf.sparse.SparseTensor(indices = [[3,0], [4,0]],\n",
        "                         values = [1,1],\n",
        "                         dense_shape = [8,6])\n",
        "print(tf.sparse.to_dense(sparse_pattern_A))\n",
        "print(tf.sparse.to_dense(sparse_pattern_B))\n",
        "print(tf.sparse.to_dense(sparse_pattern_C))\n",
        "sparse_patt_list = [sparse_pattern_A, sparse_pattern_B,sparse_pattern_C]\n",
        "sparse_pattern = tf.sparse.concat(axis=1, sp_inputs= sparse_patt_list)\n",
        "print(tf.sparse.to_dense(sparse_pattern))"
      ]
    },
    {
      "cell_type": "code",
      "execution_count": null,
      "metadata": {
        "colab": {
          "base_uri": "https://localhost:8080/"
        },
        "id": "UnSDcpr6XECe",
        "outputId": "fe848426-93ec-4db8-ae69-597093ea5093"
      },
      "outputs": [
        {
          "name": "stdout",
          "output_type": "stream",
          "text": [
            "--- tf.Tensor(\n",
            "[[0 0 0 0 0]\n",
            " [0 0 0 0 0]\n",
            " [0 0 0 0 1]\n",
            " [0 0 0 1 1]\n",
            " [0 0 0 1 1]\n",
            " [0 0 0 0 1]\n",
            " [0 0 0 0 0]\n",
            " [0 0 0 0 0]], shape=(8, 5), dtype=int32)\n",
            "--- tf.Tensor(\n",
            "[[0]\n",
            " [0]\n",
            " [1]\n",
            " [1]\n",
            " [1]\n",
            " [1]\n",
            " [0]\n",
            " [0]], shape=(8, 1), dtype=int32)\n",
            "--- tf.Tensor([], shape=(8, 0), dtype=int32)\n"
          ]
        }
      ],
      "source": [
        "sliceA = tf.sparse.slice(sparse_pattern_A,start=[0,0], size=[8,5])\n",
        "sliceB = tf.sparse.slice(sparse_pattern_B,start=[0,5], size=[8,6])\n",
        "sliceC = tf.sparse.slice(sparse_pattern_C,start=[0,10], size=[8,6])\n",
        "print('---',tf.sparse.to_dense(sliceA))\n",
        "print('---',tf.sparse.to_dense(sliceB))\n",
        "print('---',tf.sparse.to_dense(sliceC))"
      ]
    },
    {
      "cell_type": "code",
      "execution_count": null,
      "metadata": {
        "colab": {
          "base_uri": "https://localhost:8080/"
        },
        "id": "sm7uU-TAZoo7",
        "outputId": "57116b00-c36e-4c80-f7d7-2ddaed04d89f"
      },
      "outputs": [
        {
          "name": "stdout",
          "output_type": "stream",
          "text": [
            "tf.Tensor(\n",
            "[[1 0 0 8]\n",
            " [0 0 0 0]\n",
            " [0 0 3 0]], shape=(3, 4), dtype=int32)\n",
            "tf.Tensor(\n",
            "[[ 6  0  0 13]\n",
            " [ 0  0  0  0]\n",
            " [ 0  0  8  0]], shape=(3, 4), dtype=int32)\n"
          ]
        }
      ],
      "source": [
        "print(tf.sparse.to_dense(st2))\n",
        "st2plus5 = tf.sparse.map_values(tf.add, st2,5)\n",
        "print(tf.sparse.to_dense(st2plus5))"
      ]
    },
    {
      "cell_type": "code",
      "execution_count": null,
      "metadata": {
        "colab": {
          "base_uri": "https://localhost:8080/"
        },
        "id": "ijkfdGpWaaso",
        "outputId": "deda4b99-d8ef-422c-aa36-2a3618eb1961"
      },
      "outputs": [
        {
          "name": "stdout",
          "output_type": "stream",
          "text": [
            "tf.Tensor(\n",
            "[[ 6  0  0 13]\n",
            " [ 0  0  0  0]\n",
            " [ 0  0  8  0]], shape=(3, 4), dtype=int32)\n"
          ]
        }
      ],
      "source": [
        "st2plus5 = tf.sparse.SparseTensor(\n",
        "    st2.indices,\n",
        "    st2.values+5,\n",
        "    st2.dense_shape\n",
        ")\n",
        "print(tf.sparse.to_dense(st2plus5))"
      ]
    },
    {
      "cell_type": "code",
      "execution_count": null,
      "metadata": {
        "colab": {
          "base_uri": "https://localhost:8080/"
        },
        "id": "rhdohUOXaw7z",
        "outputId": "7473a30b-274d-4fb3-ffb4-7e075979cf48"
      },
      "outputs": [
        {
          "name": "stdout",
          "output_type": "stream",
          "text": [
            "tf.Tensor(\n",
            "[[1 1 1 0]\n",
            " [0 0 0 0]\n",
            " [0 0 0 0]\n",
            " [0 0 0 0]\n",
            " [0 0 0 1]\n",
            " [1 1 0 0]], shape=(6, 4), dtype=int32)\n"
          ]
        },
        {
          "data": {
            "text/plain": [
              "array([[ 0.10776049, -0.90858394,  1.35728   ,  0.5384642 ],\n",
              "       [ 0.        ,  0.        ,  0.        ,  0.        ],\n",
              "       [ 0.        ,  0.        ,  0.        ,  0.        ],\n",
              "       [ 0.        ,  0.        ,  0.        ,  0.        ],\n",
              "       [-0.3960474 , -0.5116656 ,  0.06292123,  0.5255323 ],\n",
              "       [ 0.9533864 , -0.96518743,  1.0438819 ,  0.12353224]],\n",
              "      dtype=float32)"
            ]
          },
          "execution_count": 22,
          "metadata": {},
          "output_type": "execute_result"
        }
      ],
      "source": [
        "# USING TENSORFLOW\n",
        "#  If you use sparse tensors in tf.keras.layers.Dense layers \n",
        "# in your model, they will output dense tensors.\n",
        "x = tf.keras.Input(shape=(4,), sparse=True)  # 4D vectors\n",
        "y = tf.keras.layers.Dense(4)(x)\n",
        "model = tf.keras.Model(x,y)\n",
        "\n",
        "sparse_data = tf.sparse.SparseTensor(\n",
        "    indices = [(0,0),(0,1),(0,2),\n",
        "               (4,3),(5,0),(5,1)],\n",
        "    values = [1,1,1,1,1,1],\n",
        "    dense_shape = (6,4)\n",
        ")\n",
        "print(tf.sparse.to_dense(sparse_data))\n",
        "model(sparse_data)\n",
        "model.predict(sparse_data)"
      ]
    },
    {
      "cell_type": "code",
      "execution_count": null,
      "metadata": {
        "colab": {
          "base_uri": "https://localhost:8080/"
        },
        "id": "9jigT3Qkb5rd",
        "outputId": "ba09408b-c1b8-4519-e9a8-c55684cf26b4"
      },
      "outputs": [
        {
          "name": "stdout",
          "output_type": "stream",
          "text": [
            "tf.Tensor([1 1 1 0], shape=(4,), dtype=int32)\n",
            "tf.Tensor([0 0 0 0], shape=(4,), dtype=int32)\n",
            "tf.Tensor([0 0 0 0], shape=(4,), dtype=int32)\n",
            "tf.Tensor([0 0 0 0], shape=(4,), dtype=int32)\n",
            "tf.Tensor([0 0 0 1], shape=(4,), dtype=int32)\n",
            "tf.Tensor([1 1 0 0], shape=(4,), dtype=int32)\n",
            "Sparse Tensor shape=[4] \n",
            " values={\n",
            " [0]: 1\n",
            " [1]: 1\n",
            " [2]: 1}>\n",
            "Sparse Tensor shape=[4] \n",
            " values={}>\n",
            "Sparse Tensor shape=[4] \n",
            " values={}>\n",
            "Sparse Tensor shape=[4] \n",
            " values={}>\n",
            "Sparse Tensor shape=[4] \n",
            " values={\n",
            " [3]: 1}>\n",
            "Sparse Tensor shape=[4] \n",
            " values={\n",
            " [0]: 1\n",
            " [1]: 1}>\n"
          ]
        }
      ],
      "source": [
        "dataset = tf.data.Dataset.from_tensor_slices(sparse_data)\n",
        "for element in dataset:\n",
        "  print(tf.sparse.to_dense(element))\n",
        "for element in dataset:\n",
        "  print(print_sparse_tensor(element))"
      ]
    },
    {
      "cell_type": "code",
      "execution_count": null,
      "metadata": {
        "colab": {
          "base_uri": "https://localhost:8080/"
        },
        "id": "AVuU3mkfhRTt",
        "outputId": "10d20bc4-f3de-4a77-999b-0ba6fe60714b"
      },
      "outputs": [
        {
          "name": "stdout",
          "output_type": "stream",
          "text": [
            "tf.Tensor(\n",
            "[[1 1 1 0]\n",
            " [0 0 0 0]], shape=(2, 4), dtype=int32)\n",
            "tf.Tensor(\n",
            "[[0 0 0 0]\n",
            " [0 0 0 0]], shape=(2, 4), dtype=int32)\n",
            "tf.Tensor(\n",
            "[[0 0 0 1]\n",
            " [1 1 0 0]], shape=(2, 4), dtype=int32)\n",
            "Sparse Tensor shape=[2, 4] \n",
            " values={\n",
            " [0, 0]: 1\n",
            " [0, 1]: 1\n",
            " [0, 2]: 1}>\n",
            "Sparse Tensor shape=[2, 4] \n",
            " values={}>\n",
            "Sparse Tensor shape=[2, 4] \n",
            " values={\n",
            " [0, 3]: 1\n",
            " [1, 0]: 1\n",
            " [1, 1]: 1}>\n"
          ]
        }
      ],
      "source": [
        "batched_dataset = dataset.batch(2)\n",
        "for element in batched_dataset:\n",
        "  print(tf.sparse.to_dense(element))\n",
        "for element in batched_dataset:\n",
        "  print(print_sparse_tensor(element))"
      ]
    },
    {
      "cell_type": "code",
      "execution_count": null,
      "metadata": {
        "colab": {
          "base_uri": "https://localhost:8080/"
        },
        "id": "aP7SHxvlikpA",
        "outputId": "9044f382-7672-4d8d-f393-4d0fa8a223f0"
      },
      "outputs": [
        {
          "name": "stdout",
          "output_type": "stream",
          "text": [
            "a tf.Tensor(\n",
            "[[ 0  0  0 15  0  0  0  0  0  0]\n",
            " [ 0  0  0  0  0  0  0  0  0  0]\n",
            " [ 0  0  0  0 25  0  0  0  0  0]], shape=(3, 10), dtype=int32)\n",
            "transpose SparseTensor(indices=tf.Tensor(\n",
            "[[3 0]\n",
            " [4 2]], shape=(2, 2), dtype=int64), values=tf.Tensor([15 25], shape=(2,), dtype=int32), dense_shape=tf.Tensor([10  3], shape=(2,), dtype=int64))\n",
            "b tf.Tensor(\n",
            "[[ 0  0  0]\n",
            " [ 0  0  0]\n",
            " [ 0  0  0]\n",
            " [15  0  0]\n",
            " [ 0  0 25]\n",
            " [ 0  0  0]\n",
            " [ 0  0  0]\n",
            " [ 0  0  0]\n",
            " [ 0  0  0]\n",
            " [ 0  0  0]], shape=(10, 3), dtype=int32)\n",
            "tf.Tensor(\n",
            "[[225   0   0]\n",
            " [  0   0   0]\n",
            " [  0   0 625]], shape=(3, 3), dtype=int32)\n"
          ]
        }
      ],
      "source": [
        "@tf.function\n",
        "def f(x,y):\n",
        "  return tf.sparse.sparse_dense_matmul(x,y)\n",
        "\n",
        "a = tf.sparse.SparseTensor(\n",
        "    indices=[[0,3],[2,4]],\n",
        "    values=[15,25],\n",
        "    dense_shape=[3,10]\n",
        ")\n",
        "b = tf.sparse.to_dense(tf.sparse.transpose(a))\n",
        "print('a', tf.sparse.to_dense(a))\n",
        "print('transpose', tf.sparse.transpose(a))\n",
        "print('b',b)\n",
        "c = f(a,b)\n",
        "print(c)"
      ]
    },
    {
      "cell_type": "code",
      "execution_count": null,
      "metadata": {
        "colab": {
          "base_uri": "https://localhost:8080/"
        },
        "id": "OGq87kmqkG9s",
        "outputId": "316f93bd-278a-436a-cfed-cd543681a525"
      },
      "outputs": [
        {
          "name": "stdout",
          "output_type": "stream",
          "text": [
            "tf.Tensor(-3, shape=(), dtype=int32)\n"
          ]
        }
      ],
      "source": [
        "print(tf.sparse.reduce_max(tf.sparse.from_dense([-5,0,-3])))"
      ]
    },
    {
      "cell_type": "code",
      "execution_count": null,
      "metadata": {
        "colab": {
          "base_uri": "https://localhost:8080/"
        },
        "id": "tAOUANQ9mZBf",
        "outputId": "d7f64187-eb95-4435-ada3-dfabec3b16b6"
      },
      "outputs": [
        {
          "name": "stdout",
          "output_type": "stream",
          "text": [
            "tf.Tensor(0, shape=(), dtype=int32)\n"
          ]
        }
      ],
      "source": [
        "print(tf.math.reduce_max([-5,0,-3]))"
      ]
    },
    {
      "cell_type": "markdown",
      "metadata": {
        "id": "6GBQkDzJnVTD"
      },
      "source": [
        "TENSORS"
      ]
    },
    {
      "cell_type": "code",
      "execution_count": null,
      "metadata": {
        "colab": {
          "base_uri": "https://localhost:8080/"
        },
        "id": "F0TMLdzQmqsM",
        "outputId": "f7bf9aa2-48ef-4406-b3ff-a1c86a92f08c"
      },
      "outputs": [
        {
          "name": "stdout",
          "output_type": "stream",
          "text": [
            "tf.Tensor(\n",
            "[[1 2 3]\n",
            " [4 5 6]], shape=(2, 3), dtype=int32)\n",
            "(2, 3)\n",
            "<dtype: 'int32'>\n"
          ]
        }
      ],
      "source": [
        "x = tf.constant([[1,2,3],[4,5,6]])\n",
        "print(x)\n",
        "print(x.shape)\n",
        "print(x.dtype)"
      ]
    },
    {
      "cell_type": "code",
      "execution_count": null,
      "metadata": {
        "colab": {
          "base_uri": "https://localhost:8080/"
        },
        "id": "E0cy8rS_niKk",
        "outputId": "d76a1d90-5a8d-4741-83f8-84773c2e3ab1"
      },
      "outputs": [
        {
          "name": "stdout",
          "output_type": "stream",
          "text": [
            "tf.Tensor(\n",
            "[[ 2  4  6]\n",
            " [ 8 10 12]], shape=(2, 3), dtype=int32)\n",
            "tf.Tensor(\n",
            "[[ 5 10 15]\n",
            " [20 25 30]], shape=(2, 3), dtype=int32)\n"
          ]
        }
      ],
      "source": [
        "print(x+x)\n",
        "print(5*x)"
      ]
    },
    {
      "cell_type": "code",
      "execution_count": null,
      "metadata": {
        "colab": {
          "base_uri": "https://localhost:8080/"
        },
        "id": "9y5KjG0vnqm9",
        "outputId": "68c9a5ab-a4b0-4c16-c82d-f23e736e8377"
      },
      "outputs": [
        {
          "data": {
            "text/plain": [
              "<tf.Tensor: shape=(2, 2), dtype=int32, numpy=\n",
              "array([[14, 32],\n",
              "       [32, 77]], dtype=int32)>"
            ]
          },
          "execution_count": 36,
          "metadata": {},
          "output_type": "execute_result"
        }
      ],
      "source": [
        "x @ tf.transpose(x)"
      ]
    },
    {
      "cell_type": "code",
      "execution_count": null,
      "metadata": {
        "colab": {
          "base_uri": "https://localhost:8080/"
        },
        "id": "wkpfgHbup9DR",
        "outputId": "2ff0f34b-5f6a-4033-96f2-583a75d8907b"
      },
      "outputs": [
        {
          "data": {
            "text/plain": [
              "<tf.Tensor: shape=(6, 3), dtype=int32, numpy=\n",
              "array([[1, 2, 3],\n",
              "       [4, 5, 6],\n",
              "       [1, 2, 3],\n",
              "       [4, 5, 6],\n",
              "       [1, 2, 3],\n",
              "       [4, 5, 6]], dtype=int32)>"
            ]
          },
          "execution_count": 40,
          "metadata": {},
          "output_type": "execute_result"
        }
      ],
      "source": [
        "tf.concat([x,x,x],axis=0)"
      ]
    },
    {
      "cell_type": "code",
      "execution_count": null,
      "metadata": {
        "colab": {
          "base_uri": "https://localhost:8080/"
        },
        "id": "3yWrRIX1sEqt",
        "outputId": "13f438ca-9223-408e-f123-f3ba2498ee54"
      },
      "outputs": [
        {
          "data": {
            "text/plain": [
              "<tf.Tensor: shape=(2, 9), dtype=int32, numpy=\n",
              "array([[1, 2, 3, 1, 2, 3, 1, 2, 3],\n",
              "       [4, 5, 6, 4, 5, 6, 4, 5, 6]], dtype=int32)>"
            ]
          },
          "execution_count": 42,
          "metadata": {},
          "output_type": "execute_result"
        }
      ],
      "source": [
        "tf.concat([x,x,x],axis=1)"
      ]
    },
    {
      "cell_type": "code",
      "execution_count": null,
      "metadata": {
        "colab": {
          "base_uri": "https://localhost:8080/",
          "height": 449
        },
        "id": "hXTA5eq2sdxo",
        "outputId": "20bdd576-fe4c-4a7d-acc0-bf430d0a0a4a"
      },
      "outputs": [
        {
          "ename": "InvalidArgumentError",
          "evalue": "ignored",
          "output_type": "error",
          "traceback": [
            "\u001b[0;31m---------------------------------------------------------------------------\u001b[0m",
            "\u001b[0;31mInvalidArgumentError\u001b[0m                      Traceback (most recent call last)",
            "\u001b[0;32m<ipython-input-44-d28f1e407a08>\u001b[0m in \u001b[0;36m<module>\u001b[0;34m()\u001b[0m\n\u001b[0;32m----> 1\u001b[0;31m \u001b[0mtf\u001b[0m\u001b[0;34m.\u001b[0m\u001b[0mnn\u001b[0m\u001b[0;34m.\u001b[0m\u001b[0msoftmax\u001b[0m\u001b[0;34m(\u001b[0m\u001b[0mx\u001b[0m\u001b[0;34m,\u001b[0m \u001b[0maxis\u001b[0m\u001b[0;34m=\u001b[0m\u001b[0;34m-\u001b[0m\u001b[0;36m1\u001b[0m\u001b[0;34m)\u001b[0m\u001b[0;34m\u001b[0m\u001b[0;34m\u001b[0m\u001b[0m\n\u001b[0m",
            "\u001b[0;32m/usr/local/lib/python3.7/dist-packages/tensorflow/python/util/traceback_utils.py\u001b[0m in \u001b[0;36merror_handler\u001b[0;34m(*args, **kwargs)\u001b[0m\n\u001b[1;32m    151\u001b[0m     \u001b[0;32mexcept\u001b[0m \u001b[0mException\u001b[0m \u001b[0;32mas\u001b[0m \u001b[0me\u001b[0m\u001b[0;34m:\u001b[0m\u001b[0;34m\u001b[0m\u001b[0;34m\u001b[0m\u001b[0m\n\u001b[1;32m    152\u001b[0m       \u001b[0mfiltered_tb\u001b[0m \u001b[0;34m=\u001b[0m \u001b[0m_process_traceback_frames\u001b[0m\u001b[0;34m(\u001b[0m\u001b[0me\u001b[0m\u001b[0;34m.\u001b[0m\u001b[0m__traceback__\u001b[0m\u001b[0;34m)\u001b[0m\u001b[0;34m\u001b[0m\u001b[0;34m\u001b[0m\u001b[0m\n\u001b[0;32m--> 153\u001b[0;31m       \u001b[0;32mraise\u001b[0m \u001b[0me\u001b[0m\u001b[0;34m.\u001b[0m\u001b[0mwith_traceback\u001b[0m\u001b[0;34m(\u001b[0m\u001b[0mfiltered_tb\u001b[0m\u001b[0;34m)\u001b[0m \u001b[0;32mfrom\u001b[0m \u001b[0;32mNone\u001b[0m\u001b[0;34m\u001b[0m\u001b[0;34m\u001b[0m\u001b[0m\n\u001b[0m\u001b[1;32m    154\u001b[0m     \u001b[0;32mfinally\u001b[0m\u001b[0;34m:\u001b[0m\u001b[0;34m\u001b[0m\u001b[0;34m\u001b[0m\u001b[0m\n\u001b[1;32m    155\u001b[0m       \u001b[0;32mdel\u001b[0m \u001b[0mfiltered_tb\u001b[0m\u001b[0;34m\u001b[0m\u001b[0;34m\u001b[0m\u001b[0m\n",
            "\u001b[0;32m/usr/local/lib/python3.7/dist-packages/tensorflow/python/framework/ops.py\u001b[0m in \u001b[0;36mraise_from_not_ok_status\u001b[0;34m(e, name)\u001b[0m\n\u001b[1;32m   7184\u001b[0m \u001b[0;32mdef\u001b[0m \u001b[0mraise_from_not_ok_status\u001b[0m\u001b[0;34m(\u001b[0m\u001b[0me\u001b[0m\u001b[0;34m,\u001b[0m \u001b[0mname\u001b[0m\u001b[0;34m)\u001b[0m\u001b[0;34m:\u001b[0m\u001b[0;34m\u001b[0m\u001b[0;34m\u001b[0m\u001b[0m\n\u001b[1;32m   7185\u001b[0m   \u001b[0me\u001b[0m\u001b[0;34m.\u001b[0m\u001b[0mmessage\u001b[0m \u001b[0;34m+=\u001b[0m \u001b[0;34m(\u001b[0m\u001b[0;34m\" name: \"\u001b[0m \u001b[0;34m+\u001b[0m \u001b[0mname\u001b[0m \u001b[0;32mif\u001b[0m \u001b[0mname\u001b[0m \u001b[0;32mis\u001b[0m \u001b[0;32mnot\u001b[0m \u001b[0;32mNone\u001b[0m \u001b[0;32melse\u001b[0m \u001b[0;34m\"\"\u001b[0m\u001b[0;34m)\u001b[0m\u001b[0;34m\u001b[0m\u001b[0;34m\u001b[0m\u001b[0m\n\u001b[0;32m-> 7186\u001b[0;31m   \u001b[0;32mraise\u001b[0m \u001b[0mcore\u001b[0m\u001b[0;34m.\u001b[0m\u001b[0m_status_to_exception\u001b[0m\u001b[0;34m(\u001b[0m\u001b[0me\u001b[0m\u001b[0;34m)\u001b[0m \u001b[0;32mfrom\u001b[0m \u001b[0;32mNone\u001b[0m  \u001b[0;31m# pylint: disable=protected-access\u001b[0m\u001b[0;34m\u001b[0m\u001b[0;34m\u001b[0m\u001b[0m\n\u001b[0m\u001b[1;32m   7187\u001b[0m \u001b[0;34m\u001b[0m\u001b[0m\n\u001b[1;32m   7188\u001b[0m \u001b[0;34m\u001b[0m\u001b[0m\n",
            "\u001b[0;31mInvalidArgumentError\u001b[0m: Value for attr 'T' of int32 is not in the list of allowed values: half, bfloat16, float, double\n\t; NodeDef: {{node Softmax}}; Op<name=Softmax; signature=logits:T -> softmax:T; attr=T:type,allowed=[DT_HALF, DT_BFLOAT16, DT_FLOAT, DT_DOUBLE]> [Op:Softmax]"
          ]
        }
      ],
      "source": [
        "tf.nn.softmax(x, axis=-1)"
      ]
    },
    {
      "cell_type": "code",
      "execution_count": null,
      "metadata": {
        "colab": {
          "base_uri": "https://localhost:8080/"
        },
        "id": "f2gnSySVsnoe",
        "outputId": "bdcf37a4-8410-4dff-cab2-76cf836937de"
      },
      "outputs": [
        {
          "name": "stdout",
          "output_type": "stream",
          "text": [
            "no\n"
          ]
        }
      ],
      "source": [
        "if tf.config.list_physical_devices('GPU'):\n",
        "  print('present')\n",
        "else:\n",
        "  print('no')"
      ]
    },
    {
      "cell_type": "code",
      "execution_count": null,
      "metadata": {
        "colab": {
          "base_uri": "https://localhost:8080/"
        },
        "id": "loY5ayfEs3vs",
        "outputId": "fcafee21-46e6-4fe5-cb49-5c0c065893fc"
      },
      "outputs": [
        {
          "data": {
            "text/plain": [
              "<tf.Variable 'UnreadVariable' shape=(3,) dtype=float32, numpy=array([1., 2., 3.], dtype=float32)>"
            ]
          },
          "execution_count": 47,
          "metadata": {},
          "output_type": "execute_result"
        }
      ],
      "source": [
        "# Normal tf.Tensor objects are immutable. To store model weights \n",
        "# (or other mutable state) in TensorFlow use a tf.Variable.\n",
        "var = tf.Variable([0.0, 0.0, 0.0])\n",
        "var.assign([1,2,3])"
      ]
    },
    {
      "cell_type": "code",
      "execution_count": null,
      "metadata": {
        "colab": {
          "base_uri": "https://localhost:8080/"
        },
        "id": "g1Cg6P5StV64",
        "outputId": "cc698fa4-3b1f-4ba5-c47a-56796576eaa1"
      },
      "outputs": [
        {
          "data": {
            "text/plain": [
              "<tf.Variable 'UnreadVariable' shape=(3,) dtype=float32, numpy=array([2., 3., 4.], dtype=float32)>"
            ]
          },
          "execution_count": 48,
          "metadata": {},
          "output_type": "execute_result"
        }
      ],
      "source": [
        "var.assign_add([1,1,1])"
      ]
    },
    {
      "cell_type": "code",
      "execution_count": null,
      "metadata": {
        "colab": {
          "base_uri": "https://localhost:8080/"
        },
        "id": "uJgV6c0TthOQ",
        "outputId": "0ddf381b-894d-47c5-fa2d-01d7e016b5d2"
      },
      "outputs": [
        {
          "data": {
            "text/plain": [
              "<tf.Tensor: shape=(), dtype=float32, numpy=-2.0>"
            ]
          },
          "execution_count": 49,
          "metadata": {},
          "output_type": "execute_result"
        }
      ],
      "source": [
        "x = tf.Variable(1.0)\n",
        "def f(x):\n",
        "  y = x**2 + 2*x -5\n",
        "  return y\n",
        "f(x)"
      ]
    },
    {
      "cell_type": "code",
      "execution_count": null,
      "metadata": {
        "colab": {
          "base_uri": "https://localhost:8080/"
        },
        "id": "1-Oh9m86ttOG",
        "outputId": "e47eea38-7107-4f99-a8bb-359ece831fe3"
      },
      "outputs": [
        {
          "data": {
            "text/plain": [
              "<tf.Tensor: shape=(), dtype=float32, numpy=4.0>"
            ]
          },
          "execution_count": 50,
          "metadata": {},
          "output_type": "execute_result"
        }
      ],
      "source": [
        "with tf.GradientTape() as tape:\n",
        "  y = f(x)\n",
        "gx = tape.gradient(y,x) #g(x)=dy/dx\n",
        "gx"
      ]
    },
    {
      "cell_type": "code",
      "execution_count": null,
      "metadata": {
        "colab": {
          "base_uri": "https://localhost:8080/"
        },
        "id": "L5yFeT_9uHYt",
        "outputId": "64c5e9a3-ac00-4f98-c8b6-97bc13a0e687"
      },
      "outputs": [
        {
          "data": {
            "text/plain": [
              "<tf.Tensor: shape=(), dtype=int32, numpy=6>"
            ]
          },
          "execution_count": 51,
          "metadata": {},
          "output_type": "execute_result"
        }
      ],
      "source": [
        "@tf.function\n",
        "def my_func(x):\n",
        "  return tf.reduce_sum(x)\n",
        "my_func(tf.constant([1,2,3]))"
      ]
    },
    {
      "cell_type": "code",
      "execution_count": null,
      "metadata": {
        "colab": {
          "base_uri": "https://localhost:8080/"
        },
        "id": "gQjFKzqpvpZp",
        "outputId": "715b3887-6c8b-45c8-d35a-6c040fe387ab"
      },
      "outputs": [
        {
          "data": {
            "text/plain": [
              "<tf.Tensor: shape=(), dtype=int32, numpy=15>"
            ]
          },
          "execution_count": 53,
          "metadata": {},
          "output_type": "execute_result"
        }
      ],
      "source": [
        "my_func(tf.constant([12,3]))"
      ]
    },
    {
      "cell_type": "code",
      "execution_count": null,
      "metadata": {
        "colab": {
          "base_uri": "https://localhost:8080/"
        },
        "id": "TQqBVHKNvvLW",
        "outputId": "a5589e64-f88d-4889-fd71-fabfb84d972d"
      },
      "outputs": [
        {
          "data": {
            "text/plain": [
              "<tf.Tensor: shape=(), dtype=float32, numpy=27.3>"
            ]
          },
          "execution_count": 54,
          "metadata": {},
          "output_type": "execute_result"
        }
      ],
      "source": [
        "my_func(tf.constant([10.0,9.1,8.2], dtype=tf.float32))"
      ]
    },
    {
      "cell_type": "code",
      "execution_count": null,
      "metadata": {
        "colab": {
          "base_uri": "https://localhost:8080/"
        },
        "id": "UQvCe7zawCOt",
        "outputId": "eb92330a-ef28-4a67-c692-e58e83827799"
      },
      "outputs": [
        {
          "data": {
            "text/plain": [
              "<tf.Tensor: shape=(3,), dtype=int32, numpy=array([3, 6, 9], dtype=int32)>"
            ]
          },
          "execution_count": 55,
          "metadata": {},
          "output_type": "execute_result"
        }
      ],
      "source": [
        "# tf.Module  is a class for managing your tf.Variable objects, and the tf.function objects that operate on them. \n",
        "class MyModule(tf.Module):\n",
        "  def __init__(self, value):\n",
        "    self.weight = tf.Variable(value)\n",
        "\n",
        "  @tf.function\n",
        "  def multiply(self,x):\n",
        "    return x* self.weight\n",
        "\n",
        "mod = MyModule(3)\n",
        "mod.multiply(tf.constant([1,2,3]))"
      ]
    },
    {
      "cell_type": "code",
      "execution_count": null,
      "metadata": {
        "colab": {
          "base_uri": "https://localhost:8080/"
        },
        "id": "SC6PiWiFyOzD",
        "outputId": "b479142a-4d1d-4048-ceb1-5447b26462d8"
      },
      "outputs": [
        {
          "name": "stdout",
          "output_type": "stream",
          "text": [
            "INFO:tensorflow:Assets written to: ./saved/assets\n"
          ]
        }
      ],
      "source": [
        "tf.saved_model.save(mod, './saved')"
      ]
    },
    {
      "cell_type": "code",
      "execution_count": null,
      "metadata": {
        "colab": {
          "base_uri": "https://localhost:8080/"
        },
        "id": "iBcMIPGr0iPg",
        "outputId": "bdbedb62-ae2a-4c38-eec6-fa77278cd695"
      },
      "outputs": [
        {
          "data": {
            "text/plain": [
              "<tf.Tensor: shape=(3,), dtype=int32, numpy=array([3, 6, 9], dtype=int32)>"
            ]
          },
          "execution_count": 57,
          "metadata": {},
          "output_type": "execute_result"
        }
      ],
      "source": [
        "reloaded = tf.saved_model.load('./saved')\n",
        "reloaded.multiply(tf.constant([1,2,3]))"
      ]
    },
    {
      "cell_type": "code",
      "execution_count": null,
      "metadata": {
        "id": "iumJ_VpR03Vz"
      },
      "outputs": [],
      "source": [
        "import matplotlib\n",
        "from matplotlib import pyplot as plt\n",
        "matplotlib.rcParams['figure.figsize'] = [9,6]"
      ]
    },
    {
      "cell_type": "code",
      "execution_count": null,
      "metadata": {
        "colab": {
          "base_uri": "https://localhost:8080/",
          "height": 374
        },
        "id": "EcDrDuBs1Le2",
        "outputId": "628359fb-d629-4ab3-c23a-efa75ad20767"
      },
      "outputs": [
        {
          "data": {
            "image/png": "[encoded data removed]",
            "text/plain": [
              "<Figure size 648x432 with 1 Axes>"
            ]
          },
          "metadata": {},
          "output_type": "display_data"
        }
      ],
      "source": [
        "x = tf.linspace(-2,2,201)\n",
        "x = tf.cast(x, tf.float32)\n",
        "\n",
        "def f(x):\n",
        "  y = x**2 + 2*x -5\n",
        "  return y\n",
        "\n",
        "y = f(x) + tf.random.normal(shape=[201])\n",
        "\n",
        "plt.plot(x.numpy(), y.numpy(), '.', label='Data')\n",
        "plt.plot(x, f(x), label='Ground truth')\n",
        "plt.legend();"
      ]
    },
    {
      "cell_type": "code",
      "execution_count": null,
      "metadata": {
        "id": "WxjC_nkM2OzG"
      },
      "outputs": [],
      "source": [
        "class Model(tf.keras.Model):\n",
        "  def __init__(self,units):\n",
        "    super().__init__()\n",
        "    self.dense1 = tf.keras.layers.Dense(units=units,\n",
        "                                        activation=tf.nn.relu,\n",
        "                                        kernel_initializer=tf.random.normal,\n",
        "                                        bias_initializer=tf.random.normal)\n",
        "    self.dense2 = tf.keras.layers.Dense(1)\n",
        "\n",
        "  def call(self, x, training=True):\n",
        "    x = x[:, tf.newaxis]\n",
        "    x = self.dense1(x)\n",
        "    x =  self.dense2(x)\n",
        "    return tf.squeeze(x,axis=1)\n",
        "\n",
        "model = Model(64)"
      ]
    },
    {
      "cell_type": "code",
      "execution_count": null,
      "metadata": {
        "colab": {
          "base_uri": "https://localhost:8080/",
          "height": 390
        },
        "id": "aYMiEo3o-qbB",
        "outputId": "aa4c6e95-87ec-46ad-951b-722168fe6fde"
      },
      "outputs": [
        {
          "data": {
            "image/png": "[encoded data removed]",
            "text/plain": [
              "<Figure size 648x432 with 1 Axes>"
            ]
          },
          "metadata": {},
          "output_type": "display_data"
        }
      ],
      "source": [
        "plt.plot(x.numpy(), y.numpy(), '.', label='data')\n",
        "plt.plot(x, f(x),  label='Ground truth')\n",
        "plt.plot(x, model(x), label='Untrained predictions')\n",
        "plt.title('Before training')\n",
        "plt.legend();\n"
      ]
    },
    {
      "cell_type": "code",
      "execution_count": null,
      "metadata": {
        "colab": {
          "base_uri": "https://localhost:8080/"
        },
        "id": "UsB2Ck-O-rNN",
        "outputId": "d71ceb16-d07c-47cf-c335-da9676f55204"
      },
      "outputs": [
        {
          "name": "stdout",
          "output_type": "stream",
          "text": [
            "x tf.Tensor(\n",
            "[-2.   -1.98 -1.96 -1.94 -1.92 -1.9  -1.88 -1.86 -1.84 -1.82 -1.8  -1.78\n",
            " -1.76 -1.74 -1.72 -1.7  -1.68 -1.66 -1.64 -1.62 -1.6  -1.58 -1.56 -1.54\n",
            " -1.52 -1.5  -1.48 -1.46 -1.44 -1.42 -1.4  -1.38 -1.36 -1.34 -1.32 -1.3\n",
            " -1.28 -1.26 -1.24 -1.22 -1.2  -1.18 -1.16 -1.14 -1.12 -1.1  -1.08 -1.06\n",
            " -1.04 -1.02 -1.   -0.98 -0.96 -0.94 -0.92 -0.9  -0.88 -0.86 -0.84 -0.82\n",
            " -0.8  -0.78 -0.76 -0.74 -0.72 -0.7  -0.68 -0.66 -0.64 -0.62 -0.6  -0.58\n",
            " -0.56 -0.54 -0.52 -0.5  -0.48 -0.46 -0.44 -0.42 -0.4  -0.38 -0.36 -0.34\n",
            " -0.32 -0.3  -0.28 -0.26 -0.24 -0.22 -0.2  -0.18 -0.16 -0.14 -0.12 -0.1\n",
            " -0.08 -0.06 -0.04 -0.02  0.    0.02  0.04  0.06  0.08  0.1   0.12  0.14\n",
            "  0.16  0.18  0.2   0.22  0.24  0.26  0.28  0.3   0.32  0.34  0.36  0.38\n",
            "  0.4   0.42  0.44  0.46  0.48  0.5   0.52  0.54  0.56  0.58  0.6   0.62\n",
            "  0.64  0.66  0.68  0.7   0.72  0.74  0.76  0.78  0.8   0.82  0.84  0.86\n",
            "  0.88  0.9   0.92  0.94  0.96  0.98  1.    1.02  1.04  1.06  1.08  1.1\n",
            "  1.12  1.14  1.16  1.18  1.2   1.22  1.24  1.26  1.28  1.3   1.32  1.34\n",
            "  1.36  1.38  1.4   1.42  1.44  1.46  1.48  1.5   1.52  1.54  1.56  1.58\n",
            "  1.6   1.62  1.64  1.66  1.68  1.7   1.72  1.74  1.76  1.78  1.8   1.82\n",
            "  1.84  1.86  1.88  1.9   1.92  1.94  1.96  1.98  2.  ], shape=(201,), dtype=float32)\n",
            "Mean squared error: 0.878\n",
            "Mean squared error: 0.876\n",
            "Mean squared error: 0.875\n",
            "Mean squared error: 0.874\n",
            "Mean squared error: 0.873\n",
            "Mean squared error: 0.872\n",
            "Mean squared error: 0.871\n",
            "Mean squared error: 0.871\n",
            "Mean squared error: 0.870\n",
            "Mean squared error: 0.869\n"
          ]
        }
      ],
      "source": [
        "variables = model.variables\n",
        "optimizer = tf.optimizers.SGD(learning_rate=0.01)\n",
        "print('x',x)\n",
        "# print('y',y)\n",
        "for step in range(1000):\n",
        "  with tf.GradientTape() as tape:\n",
        "    prediction = model(x)\n",
        "    # print(prediction)\n",
        "    error = (y-prediction)**2\n",
        "    mean_error = tf.reduce_mean(error)\n",
        "  gradient = tape.gradient(mean_error, variables)\n",
        "  optimizer.apply_gradients(zip(gradient, variables))\n",
        "\n",
        "  if step % 100 == 0:\n",
        "    print(f'Mean squared error: {mean_error.numpy():0.3f}')"
      ]
    },
    {
      "cell_type": "code",
      "execution_count": null,
      "metadata": {
        "colab": {
          "base_uri": "https://localhost:8080/"
        },
        "id": "Pnm0MCNiEuAj",
        "outputId": "9c07994f-2b48-4a6d-9d2c-7b1d985dd6e7"
      },
      "outputs": [
        {
          "data": {
            "text/plain": [
              "<tf.Tensor: shape=(2,), dtype=int32, numpy=array([1, 2], dtype=int32)>"
            ]
          },
          "execution_count": 7,
          "metadata": {},
          "output_type": "execute_result"
        }
      ],
      "source": [
        "import tensorflow as tf\n",
        "tf.random.uniform(shape=[2],minval=1,maxval=3,dtype=tf.int32)"
      ]
    },
    {
      "cell_type": "code",
      "execution_count": null,
      "metadata": {
        "colab": {
          "base_uri": "https://localhost:8080/"
        },
        "id": "qP2NeO8Hl-DE",
        "outputId": "04b671b7-31b8-4049-c27a-a72c5e357f6a"
      },
      "outputs": [
        {
          "data": {
            "text/plain": [
              "<tf.Tensor: shape=(), dtype=int32, numpy=2>"
            ]
          },
          "execution_count": 10,
          "metadata": {},
          "output_type": "execute_result"
        }
      ],
      "source": [
        "tf.random.set_seed(5)\n",
        "tf.random.uniform(shape=[],maxval=3,dtype=tf.int32,seed=10)"
      ]
    },
    {
      "cell_type": "code",
      "execution_count": null,
      "metadata": {
        "colab": {
          "base_uri": "https://localhost:8080/"
        },
        "id": "AzbRjxyZmvW5",
        "outputId": "f2908a19-b188-4bb8-8987-4c39fa47d5b0"
      },
      "outputs": [
        {
          "data": {
            "text/plain": [
              "<tf.Tensor: shape=(4, 6), dtype=int32, numpy=\n",
              "array([[1, 2, 3, 1, 2, 3],\n",
              "       [4, 5, 6, 4, 5, 6],\n",
              "       [1, 2, 3, 1, 2, 3],\n",
              "       [4, 5, 6, 4, 5, 6]], dtype=int32)>"
            ]
          },
          "execution_count": 18,
          "metadata": {},
          "output_type": "execute_result"
        }
      ],
      "source": [
        "# tf.tile\n",
        "a = tf.constant([[1,2,3],[4,5,6]],tf.int32)\n",
        "b = tf.constant([1,2],tf.int32)\n",
        "tf.tile(a,b)\n",
        "\n",
        "c = tf.constant([2,1],tf.int32)\n",
        "tf.tile(a,c)\n",
        "\n",
        "d = tf.constant([2,2],tf.int32)\n",
        "tf.tile(a,d)"
      ]
    },
    {
      "cell_type": "code",
      "execution_count": null,
      "metadata": {
        "colab": {
          "base_uri": "https://localhost:8080/"
        },
        "id": "dEh1xH7KsAx2",
        "outputId": "c03a20db-0fca-4523-d0e9-469309275b5d"
      },
      "outputs": [
        {
          "data": {
            "text/plain": [
              "<tf.Tensor: shape=(3, 2, 2), dtype=float32, numpy=\n",
              "array([[[1., 0.],\n",
              "        [0., 1.]],\n",
              "\n",
              "       [[1., 0.],\n",
              "        [0., 1.]],\n",
              "\n",
              "       [[1., 0.],\n",
              "        [0., 1.]]], dtype=float32)>"
            ]
          },
          "execution_count": 21,
          "metadata": {},
          "output_type": "execute_result"
        }
      ],
      "source": [
        "tf.eye(2) # identity matrix\n",
        "tf.eye(2, num_columns=3) # 2x3\n",
        "batch_identity = tf.eye(2,batch_shape=[3]) # batch of 3 identity matrix 2x2\n",
        "batch_identity"
      ]
    },
    {
      "cell_type": "code",
      "execution_count": null,
      "metadata": {
        "colab": {
          "base_uri": "https://localhost:8080/"
        },
        "id": "ruc-gnRcsznx",
        "outputId": "3d67394c-9cbe-4f95-806d-2a29143cda95"
      },
      "outputs": [
        {
          "data": {
            "text/plain": [
              "<tf.Tensor: shape=(2, 2), dtype=float32, numpy=\n",
              "array([[1., 0.],\n",
              "       [0., 1.]], dtype=float32)>"
            ]
          },
          "execution_count": 24,
          "metadata": {},
          "output_type": "execute_result"
        }
      ],
      "source": [
        "tf.tile(tf.eye(2),[5,5])[:2,:2]"
      ]
    },
    {
      "cell_type": "code",
      "execution_count": null,
      "metadata": {
        "id": "U_R-S_Xwte7p"
      },
      "outputs": [],
      "source": [
        "# regularizers\n",
        "from tensorflow.keras import layers\n",
        "from tensorflow.keras import regularizers\n",
        "\n",
        "layer = layers.Dense(\n",
        "    units=64,\n",
        "    kernel_regularizer=regularizers.L1L2(l1=1e-5, l2=1e-4),\n",
        "    bias_regularizer=regularizers.L2(1e-4),\n",
        "    activity_regularizer=regularizers.L2(1e-5)\n",
        ")"
      ]
    },
    {
      "cell_type": "code",
      "execution_count": null,
      "metadata": {
        "colab": {
          "base_uri": "https://localhost:8080/"
        },
        "id": "-9zDh-pkwdBq",
        "outputId": "5197f09c-5511-48e6-d69b-bd9b91f434af"
      },
      "outputs": [
        {
          "name": "stdout",
          "output_type": "stream",
          "text": [
            "[<tf.Tensor: shape=(), dtype=float32, numpy=5.0>, <tf.Tensor: shape=(), dtype=float32, numpy=0.25>]\n",
            "tf.Tensor(5.25, shape=(), dtype=float32)\n"
          ]
        }
      ],
      "source": [
        "layer = layers.Dense(units=5,\n",
        "                     kernel_initializer='ones',\n",
        "                     kernel_regularizer=regularizers.L1(0.01),\n",
        "                     activity_regularizer=regularizers.L2(0.01))\n",
        "tensor = tf.ones(shape=(5,5))*2.0\n",
        "out = layer(tensor)\n",
        "print(layer.losses)\n",
        "print(tf.math.reduce_sum(layer.losses))"
      ]
    },
    {
      "cell_type": "code",
      "execution_count": null,
      "metadata": {
        "colab": {
          "base_uri": "https://localhost:8080/"
        },
        "id": "G2eA4CbywrxG",
        "outputId": "0ad072ca-c265-4feb-c7ed-362bb3a38085"
      },
      "outputs": [
        {
          "data": {
            "text/plain": [
              "<tf.Tensor: shape=(2, 2, 3), dtype=bool, numpy=\n",
              "array([[[ True, False, False],\n",
              "        [ True,  True,  True]],\n",
              "\n",
              "       [[ True,  True, False],\n",
              "        [False, False, False]]])>"
            ]
          },
          "execution_count": 36,
          "metadata": {},
          "output_type": "execute_result"
        }
      ],
      "source": [
        "# tf.sequence_mask - returns a mask tensor rep 1st n pos of ech cell\n",
        "tf.sequence_mask(lengths=[1,3,2],maxlen=6)\n",
        "tf.sequence_mask([[1,3],[2,0]])"
      ]
    },
    {
      "cell_type": "code",
      "execution_count": null,
      "metadata": {
        "colab": {
          "base_uri": "https://localhost:8080/"
        },
        "id": "jvv-OME51k1t",
        "outputId": "2b652eb5-35fa-4882-82d0-c0b66e220749"
      },
      "outputs": [
        {
          "name": "stdout",
          "output_type": "stream",
          "text": [
            "[[0]\n",
            " [3]]\n",
            "[[0 0]\n",
            " [1 0]\n",
            " [1 2]]\n"
          ]
        }
      ],
      "source": [
        "# tf.where - return non-zero\n",
        "print(tf.where([True,False,False,True]).numpy())\n",
        "print(tf.where([[1,0,0],[1,0,1]]).numpy()) # 2axis int vector with 3 non zero val, shape=[3,2]"
      ]
    },
    {
      "cell_type": "code",
      "execution_count": null,
      "metadata": {
        "colab": {
          "base_uri": "https://localhost:8080/"
        },
        "id": "yWBDOgX49BCg",
        "outputId": "8e21db58-498c-46cb-8158-08586a437f46"
      },
      "outputs": [
        {
          "name": "stdout",
          "output_type": "stream",
          "text": [
            "[[0 0 0]\n",
            " [0 1 1]\n",
            " [0 2 0]\n",
            " [0 2 1]\n",
            " [1 2 0]]\n"
          ]
        }
      ],
      "source": [
        "float_tensor = [[[0.1, 0], [0, 2.2], [3.5, 1e6]],\n",
        "                [[0,   0], [0,   0], [99,    0]]]\n",
        "print(tf.where(float_tensor).numpy())"
      ]
    },
    {
      "cell_type": "code",
      "execution_count": null,
      "metadata": {
        "colab": {
          "base_uri": "https://localhost:8080/"
        },
        "id": "sTsU-vFo_Fdx",
        "outputId": "970397ae-d8c9-4381-ca8f-42355c527011"
      },
      "outputs": [
        {
          "data": {
            "text/plain": [
              "array([[0, 0, 0],\n",
              "       [0, 1, 1],\n",
              "       [0, 2, 0],\n",
              "       [0, 2, 1],\n",
              "       [1, 2, 0]])"
            ]
          },
          "execution_count": 43,
          "metadata": {},
          "output_type": "execute_result"
        }
      ],
      "source": [
        "sparse = tf.sparse.from_dense(float_tensor)\n",
        "sparse.indices.numpy()"
      ]
    },
    {
      "cell_type": "code",
      "execution_count": null,
      "metadata": {
        "colab": {
          "base_uri": "https://localhost:8080/"
        },
        "id": "V4FkGyTS_dTX",
        "outputId": "03b99398-ef4f-4d53-bb7a-4ddf79c99737"
      },
      "outputs": [
        {
          "name": "stdout",
          "output_type": "stream",
          "text": [
            "(1, 2) [[1 2]]\n",
            "[[[ 0.04896894 -0.01071317  0.0486864   0.0249696 ]\n",
            "  [-0.03820563  0.02573908 -0.00754292  0.01746018]]]\n",
            "[array([[-0.02982046, -0.01529288, -0.04444498, -0.0058744 ],\n",
            "       [ 0.04896894, -0.01071317,  0.0486864 ,  0.0249696 ],\n",
            "       [-0.03820563,  0.02573908, -0.00754292,  0.01746018],\n",
            "       [-0.0266137 ,  0.03024316, -0.04497806,  0.03336683],\n",
            "       [-0.04050327,  0.00158821,  0.01736374, -0.02231138],\n",
            "       [-0.00035589,  0.0311137 , -0.02425152,  0.04963937],\n",
            "       [-0.03750204, -0.04537165,  0.02166006, -0.0100768 ],\n",
            "       [ 0.03490492, -0.03113943, -0.03891115,  0.04793649],\n",
            "       [-0.02136333,  0.00531115, -0.04030733, -0.02414421],\n",
            "       [-0.00019398,  0.04354678, -0.04987205, -0.03746096]],\n",
            "      dtype=float32)]\n"
          ]
        }
      ],
      "source": [
        "from tensorflow.keras.models import Sequential\n",
        "from tensorflow.keras.layers import Embedding\n",
        "import numpy as np\n",
        "\n",
        "model = Sequential()\n",
        "# input_dim= vocab size, output_dim=len of vec for each word, ip_len=max len of a seq\n",
        "emd = Embedding(input_dim=10, output_dim=4,input_length=2)\n",
        "model.add(emd)\n",
        "model.compile('adam','mse')\n",
        "\n",
        "input_data = np.array([[1,2]])\n",
        "pred = model.predict(input_data)\n",
        "print(input_data.shape, input_data)\n",
        "print(pred)\n",
        "print(emd.get_weights())\n",
        "# `embeddings` has a shape of (num_vocab, embedding_dim) \n"
      ]
    },
    {
      "cell_type": "code",
      "execution_count": null,
      "metadata": {
        "colab": {
          "base_uri": "https://localhost:8080/"
        },
        "id": "ZpgP0HA3qWVU",
        "outputId": "40aa13f8-ef70-4192-9b45-c33be54d9186"
      },
      "outputs": [
        {
          "name": "stdout",
          "output_type": "stream",
          "text": [
            "encoded reviews: [[40, 36, 20], [27, 19], [2, 14], [45, 17], [27, 17], [38], [38, 33], [15], [37, 44], [48, 44, 49, 44]]\n",
            "[[40 36 20  0]\n",
            " [27 19  0  0]\n",
            " [ 2 14  0  0]\n",
            " [45 17  0  0]\n",
            " [27 17  0  0]\n",
            " [38  0  0  0]\n",
            " [38 33  0  0]\n",
            " [15  0  0  0]\n",
            " [37 44  0  0]\n",
            " [48 44 49 44]]\n",
            "Model: \"sequential_7\"\n",
            "_________________________________________________________________\n",
            " Layer (type)                Output Shape              Param #   \n",
            "=================================================================\n",
            " embedding_7 (Embedding)     (None, 4, 8)              400       \n",
            "                                                                 \n",
            " flatten_4 (Flatten)         (None, 32)                0         \n",
            "                                                                 \n",
            " dense_10 (Dense)            (None, 1)                 33        \n",
            "                                                                 \n",
            "=================================================================\n",
            "Total params: 433\n",
            "Trainable params: 433\n",
            "Non-trainable params: 0\n",
            "_________________________________________________________________\n",
            "None\n",
            "8 50\n"
          ]
        }
      ],
      "source": [
        "from numpy import array\n",
        "from tensorflow.keras.preprocessing.text import one_hot\n",
        "from tensorflow.keras.preprocessing.sequence import pad_sequences\n",
        "from tensorflow.keras.models import Sequential\n",
        "from tensorflow.keras.layers import Flatten,Embedding,Dense\n",
        "\n",
        "reviews =[\n",
        "          'Never coming back!',\n",
        "          'horrible service',\n",
        "          'rude waitress',\n",
        "          'cold food',\n",
        "          'horrible food!',\n",
        "          'awesome',\n",
        "          'awesome services!',\n",
        "          'rocks',\n",
        "          'poor work',\n",
        "          'couldn\\'t have done better'\n",
        "]\n",
        "\n",
        "labels = array([1,1,1,1,1,0,0,0,0,0])\n",
        "vocab_size = 50\n",
        "encoded_reviews = [one_hot(d,vocab_size) for d in reviews]\n",
        "print(f'encoded reviews: {encoded_reviews}')\n",
        "\n",
        "max_length = 4\n",
        "padded_reviews = pad_sequences(encoded_reviews,maxlen=max_length,padding='post')\n",
        "print(padded_reviews)\n",
        "\n",
        "model = Sequential()\n",
        "embd = Embedding(input_dim=vocab_size,output_dim=8,input_length=max_length)\n",
        "model.add(embd)\n",
        "model.add(Flatten())\n",
        "model.add(Dense(1,activation='sigmoid'))\n",
        "model.compile(optimizer='adam',loss='binary_crossentropy',metrics=['acc'])\n",
        "\n",
        "print(model.summary())\n",
        "print(len(embd.get_weights()[0][0]), len(embd.get_weights()[0]))"
      ]
    },
    {
      "cell_type": "code",
      "execution_count": null,
      "metadata": {
        "colab": {
          "base_uri": "https://localhost:8080/"
        },
        "id": "BAjT54pgukM8",
        "outputId": "9a01441c-8904-4b41-b35d-be3b8840e544"
      },
      "outputs": [
        {
          "data": {
            "text/plain": [
              "<keras.callbacks.History at 0x7f752ba3e7d0>"
            ]
          },
          "execution_count": 55,
          "metadata": {},
          "output_type": "execute_result"
        }
      ],
      "source": [
        "model.fit(padded_reviews,labels,epochs=100,verbose=0)"
      ]
    },
    {
      "cell_type": "code",
      "execution_count": null,
      "metadata": {
        "colab": {
          "base_uri": "https://localhost:8080/"
        },
        "id": "y5yXgfdHxL20",
        "outputId": "6ca7b81a-8f70-418a-b953-80aba33df145"
      },
      "outputs": [
        {
          "name": "stdout",
          "output_type": "stream",
          "text": [
            "(50, 8)\n",
            "[ 0.08912646  0.1435917  -0.13041191 -0.08259299  0.07480287 -0.08749638\n",
            " -0.09444305  0.14504045]\n"
          ]
        }
      ],
      "source": [
        "print(embd.get_weights()[0].shape)\n",
        "print(embd.get_weights()[0][0])"
      ]
    },
    {
      "cell_type": "code",
      "execution_count": null,
      "metadata": {
        "colab": {
          "base_uri": "https://localhost:8080/"
        },
        "id": "s0EGRvHOxSmN",
        "outputId": "ca149229-8e62-4d40-835b-5555c8aba4e5"
      },
      "outputs": [
        {
          "name": "stdout",
          "output_type": "stream",
          "text": [
            "TensorSpec(shape=(8, 3), dtype=tf.int32, name='OriginalName')\n"
          ]
        },
        {
          "data": {
            "text/plain": [
              "TensorSpec(shape=(8, 3), dtype=tf.int32, name='NewName')"
            ]
          },
          "execution_count": 6,
          "metadata": {},
          "output_type": "execute_result"
        }
      ],
      "source": [
        "import tensorflow as tf\n",
        "spec = tf.TensorSpec(shape=[8,3], dtype=tf.int32, name=\"OriginalName\")\n",
        "print(spec)\n",
        "tf.TensorSpec.from_spec(spec, \"NewName\")"
      ]
    },
    {
      "cell_type": "code",
      "execution_count": null,
      "metadata": {
        "colab": {
          "base_uri": "https://localhost:8080/"
        },
        "id": "ZWz_tw5ZD1wZ",
        "outputId": "64e443c8-45fe-4de1-fa47-0ae46e6bdad0"
      },
      "outputs": [
        {
          "data": {
            "text/plain": [
              "TensorSpec(shape=(3,), dtype=tf.int32, name=None)"
            ]
          },
          "execution_count": 5,
          "metadata": {},
          "output_type": "execute_result"
        }
      ],
      "source": [
        "tf.TensorSpec.from_tensor(tf.constant([1,2,3]))"
      ]
    },
    {
      "cell_type": "code",
      "execution_count": null,
      "metadata": {
        "colab": {
          "background_save": true
        },
        "id": "eAKAex3SEBEo"
      },
      "outputs": [],
      "source": [
        "import tensorflow as tf\n",
        "from numpy import array\n",
        "from tf.keras.precessing.sequence import pad_sequences\n",
        "\n",
        "# define documents\n",
        "docs = ['Well done!',\n",
        "\t\t'Good work',\n",
        "\t\t'Great effort',\n",
        "\t\t'nice work',\n",
        "\t\t'Excellent!',\n",
        "\t\t'Weak',\n",
        "\t\t'Poor effort!',\n",
        "\t\t'not good',\n",
        "\t\t'poor work',\n",
        "\t\t'Could have done better.']\n",
        "# define class labels\n",
        "labels = array([1,1,1,1,1,0,0,0,0,0])\n",
        "\n",
        "t = tf.keras.preprocessing.text.Tokenizer()\n",
        "t.fit_on_texts(docs)\n",
        "vocab = len(t.word_index)+1\n",
        "encoded_docs = t.texts_to_sequences(docs)\n",
        "print(encoded_docs)\n",
        "max_len=4\n",
        "padded_docs = pad_sequences(encoded_docs,maxlen=max_len,padding='post')\n",
        "print(padded_docs)"
      ]
    },
    {
      "cell_type": "code",
      "execution_count": null,
      "metadata": {
        "id": "bOPEyDQ6NXD_"
      },
      "outputs": [],
      "source": [
        "# CONCATENATE\n",
        "import tensorflow as tf\n",
        "from tensorflow.keras import layers\n",
        "import numpy as np\n"
      ]
    },
    {
      "cell_type": "code",
      "source": [
        "x = np.arange(20).reshape(2,2,5)\n",
        "print(x)\n",
        "y = np.arange(20,30).reshape(2,1,5)\n",
        "print('--------')\n",
        "print(y)\n",
        "print('----------')\n",
        "tf.keras.layers.concatenate([x,y],axis=1)"
      ],
      "metadata": {
        "colab": {
          "base_uri": "https://localhost:8080/"
        },
        "id": "9rYyIynl-dx2",
        "outputId": "aa9f419b-06ca-4d2e-c37b-24ebf7b12e1c"
      },
      "execution_count": null,
      "outputs": [
        {
          "output_type": "stream",
          "name": "stdout",
          "text": [
            "[[[ 0  1  2  3  4]\n",
            "  [ 5  6  7  8  9]]\n",
            "\n",
            " [[10 11 12 13 14]\n",
            "  [15 16 17 18 19]]]\n",
            "--------\n",
            "[[[20 21 22 23 24]]\n",
            "\n",
            " [[25 26 27 28 29]]]\n",
            "----------\n"
          ]
        },
        {
          "output_type": "execute_result",
          "data": {
            "text/plain": [
              "<tf.Tensor: shape=(2, 3, 5), dtype=int64, numpy=\n",
              "array([[[ 0,  1,  2,  3,  4],\n",
              "        [ 5,  6,  7,  8,  9],\n",
              "        [20, 21, 22, 23, 24]],\n",
              "\n",
              "       [[10, 11, 12, 13, 14],\n",
              "        [15, 16, 17, 18, 19],\n",
              "        [25, 26, 27, 28, 29]]])>"
            ]
          },
          "metadata": {},
          "execution_count": 9
        }
      ]
    },
    {
      "cell_type": "code",
      "source": [
        ""
      ],
      "metadata": {
        "colab": {
          "base_uri": "https://localhost:8080/",
          "height": 217
        },
        "id": "L2xKArcuAd7Y",
        "outputId": "3c708f9f-53ce-4a0a-b2be-06eed8f2517c"
      },
      "execution_count": null,
      "outputs": [
        {
          "output_type": "error",
          "ename": "AttributeError",
          "evalue": "ignored",
          "traceback": [
            "\u001b[0;31m---------------------------------------------------------------------------\u001b[0m",
            "\u001b[0;31mAttributeError\u001b[0m                            Traceback (most recent call last)",
            "\u001b[0;32m<ipython-input-12-bcac4642afe8>\u001b[0m in \u001b[0;36m<module>\u001b[0;34m()\u001b[0m\n\u001b[1;32m      1\u001b[0m \u001b[0minput1\u001b[0m \u001b[0;34m=\u001b[0m \u001b[0mlayers\u001b[0m\u001b[0;34m.\u001b[0m\u001b[0mInput\u001b[0m\u001b[0;34m(\u001b[0m\u001b[0mshape\u001b[0m\u001b[0;34m=\u001b[0m\u001b[0;34m[\u001b[0m\u001b[0;36m5\u001b[0m\u001b[0;34m]\u001b[0m\u001b[0;34m)\u001b[0m\u001b[0;34m\u001b[0m\u001b[0;34m\u001b[0m\u001b[0m\n\u001b[0;32m----> 2\u001b[0;31m \u001b[0mprint\u001b[0m\u001b[0;34m(\u001b[0m\u001b[0minput1\u001b[0m\u001b[0;34m.\u001b[0m\u001b[0mget_weights\u001b[0m\u001b[0;34m(\u001b[0m\u001b[0;34m)\u001b[0m\u001b[0;34m)\u001b[0m\u001b[0;34m\u001b[0m\u001b[0;34m\u001b[0m\u001b[0m\n\u001b[0m",
            "\u001b[0;31mAttributeError\u001b[0m: 'KerasTensor' object has no attribute 'get_weights'"
          ]
        }
      ]
    },
    {
      "cell_type": "code",
      "source": [
        "import pandas as pd\n",
        "\n",
        "a = pd.DataFrame({0:[1,2,3],1:[10,20,30]})\n",
        "b = pd.DataFrame({0:[0,1,2,3],1:[0,1,20,3]})\n",
        "print(a)\n",
        "print('-----')\n",
        "print(b)\n",
        "print('-----')\n",
        "\n",
        "# match_ident = []\n",
        "# for i in range(0,len(a)):\n",
        "#     found=False\n",
        "#     for j in range(0,len(b)):\n",
        "#         if a[0][i]==b[0][j]:\n",
        "#             if a[1][i]==b[1][j]:\n",
        "#                 found=True\n",
        "#     match_ident.append(not(found))\n",
        "\n",
        "# a = a[match_ident]\n",
        "# print(a)\n",
        "print(pd.merge(a,b, indicator=True, how='outer')\n",
        "         .query('_merge==\"left_only\"')\n",
        "         .drop('_merge', axis=1))"
      ],
      "metadata": {
        "id": "MsjzBcuE-nDR",
        "colab": {
          "base_uri": "https://localhost:8080/"
        },
        "outputId": "7b6d73f2-ebb0-4a85-988e-3402ef5a3fbc"
      },
      "execution_count": 3,
      "outputs": [
        {
          "output_type": "stream",
          "name": "stdout",
          "text": [
            "   0   1\n",
            "0  1  10\n",
            "1  2  20\n",
            "2  3  30\n",
            "-----\n",
            "   0   1\n",
            "0  0   0\n",
            "1  1   1\n",
            "2  2  20\n",
            "3  3   3\n",
            "-----\n",
            "   0   1\n",
            "0  1  10\n",
            "2  3  30\n"
          ]
        }
      ]
    },
    {
      "cell_type": "code",
      "source": [
        "import tensorflow as tf\n",
        "\n",
        "class Foo(object):\n",
        "  def __init__(self):\n",
        "    self.a = tf.Variable(1)\n",
        "    self.b = tf.constant(2)\n",
        "    self.c = tf.convert_to_tensor('hello there')\n",
        "\n",
        "  @tf.function\n",
        "  def bar(self, partial):\n",
        "    packed = tf.raw_ops.Pack(values=[self.a, self.b])\n",
        "    static_val = tf.get_static_value(packed, partial=partial)\n",
        "    tf.print(static_val)\n",
        "\n",
        "  @tf.function\n",
        "  def bar2(self):\n",
        "    print(self.b)\n",
        "    print(tf.get_static_value(self.b))\n",
        "\n",
        "  @tf.function\n",
        "  def bar3(self):\n",
        "    print(self.c)\n",
        "    print(tf.get_static_value(self.c))\n",
        "\n",
        "f = Foo()\n",
        "f.bar2()  # `array([None, array(2, dtype=int32)], dtype=object)`\n",
        "# f.bar2(partial=False)  # `None`\n",
        "f.bar3()"
      ],
      "metadata": {
        "colab": {
          "base_uri": "https://localhost:8080/"
        },
        "id": "YM-II6R0o6it",
        "outputId": "b48282fb-5cd3-4b89-8429-b429cb64c594"
      },
      "execution_count": 8,
      "outputs": [
        {
          "output_type": "stream",
          "name": "stdout",
          "text": [
            "tf.Tensor(2, shape=(), dtype=int32)\n",
            "2\n",
            "tf.Tensor(b'hello there', shape=(), dtype=string)\n",
            "b'hello there'\n"
          ]
        }
      ]
    },
    {
      "cell_type": "code",
      "source": [
        ""
      ],
      "metadata": {
        "id": "iUJL4kK6xGzP"
      },
      "execution_count": null,
      "outputs": []
    }
  ],
  "metadata": {
    "colab": {
      "collapsed_sections": [],
      "name": "sparse.ipynb",
      "provenance": [],
      "authorship_tag": "ABX9TyPLzAiimfYL0qvnoJJC0Jhu",
      "include_colab_link": true
    },
    "kernelspec": {
      "display_name": "Python 3",
      "name": "python3"
    },
    "language_info": {
      "name": "python"
    }
  },
  "nbformat": 4,
  "nbformat_minor": 0
}