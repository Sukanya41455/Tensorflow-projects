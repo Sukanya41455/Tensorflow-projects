{
  "nbformat": 4,
  "nbformat_minor": 0,
  "metadata": {
    "colab": {
      "name": "pytorch_MNIST.ipynb",
      "provenance": [],
      "authorship_tag": "ABX9TyPvQ/2pJuzOrXnICjFyLv9l",
      "include_colab_link": true
    },
    "kernelspec": {
      "name": "python3",
      "display_name": "Python 3"
    },
    "language_info": {
      "name": "python"
    }
  },
  "cells": [
    {
      "cell_type": "markdown",
      "metadata": {
        "id": "view-in-github",
        "colab_type": "text"
      },
      "source": [
        "<a href=\"https://colab.research.google.com/github/Sukanya41455/Tensorflow_practice/blob/main/pytorch_MNIST.ipynb\" target=\"_parent\"><img src=\"https://colab.research.google.com/assets/colab-badge.svg\" alt=\"Open In Colab\"/></a>"
      ]
    },
    {
      "cell_type": "code",
      "execution_count": 8,
      "metadata": {
        "id": "aMwDtRamJXJT"
      },
      "outputs": [],
      "source": [
        "import torch\n",
        "from torch import nn\n",
        "from torch.utils.data import DataLoader\n",
        "from torchvision import datasets\n",
        "from torchvision.transforms import ToTensor"
      ]
    },
    {
      "cell_type": "code",
      "source": [
        "training_data = datasets.FashionMNIST(\n",
        "    root='data',\n",
        "    train=True,\n",
        "    download=True,\n",
        "    transform=ToTensor(),\n",
        ")\n",
        "\n",
        "test_data = datasets.FashionMNIST(\n",
        "    root='data',\n",
        "    train=False,\n",
        "    download=True,\n",
        "    transform=ToTensor(),\n",
        ")"
      ],
      "metadata": {
        "id": "5H570g6HJj86"
      },
      "execution_count": 9,
      "outputs": []
    },
    {
      "cell_type": "code",
      "source": [
        "batch_size = 64\n",
        "\n",
        "train_dataloader = DataLoader(training_data, batch_size=batch_size)\n",
        "test_dataloader = DataLoader(test_data, batch_size=batch_size)\n",
        "\n",
        "for X,y in test_dataloader:\n",
        "  print(f\"Shape of X [N, C, H, W]: {X.shape}\")\n",
        "  print(f\"Shape of y: {y.shape} {y.dtype}\")\n",
        "  break"
      ],
      "metadata": {
        "colab": {
          "base_uri": "https://localhost:8080/"
        },
        "id": "87I2c2leJ9yh",
        "outputId": "6463735d-fb0b-4e46-ada1-63b4a8591450"
      },
      "execution_count": 10,
      "outputs": [
        {
          "output_type": "stream",
          "name": "stdout",
          "text": [
            "Shape of X [N, C, H, W]: torch.Size([64, 1, 28, 28])\n",
            "Shape of y: torch.Size([64]) torch.int64\n"
          ]
        }
      ]
    },
    {
      "cell_type": "code",
      "source": [
        "device = 'cuda' if torch.cuda.is_available() else 'cpu'\n",
        "print(device)\n",
        "\n",
        "class NeuralNetwork(nn.Module):\n",
        "  def __init__(self):\n",
        "    super(NeuralNetwork, self).__init__()\n",
        "    self.flatten = nn.Flatten()\n",
        "    self.linear_relu_stack = nn.Sequential(\n",
        "        nn.Linear(28*28, 512),\n",
        "        nn.ReLU(),\n",
        "        nn.Linear(512, 512),\n",
        "        nn.ReLU(),\n",
        "        nn.Linear(512, 10)\n",
        "    )\n",
        "  def forward(self, x):\n",
        "    x = self.flatten(x)\n",
        "    logits = self.linear_relu_stack(x)\n",
        "    return logits\n",
        "\n",
        "model = NeuralNetwork().to(device)\n",
        "print(model)"
      ],
      "metadata": {
        "colab": {
          "base_uri": "https://localhost:8080/"
        },
        "id": "ey4Uc3lOKcXk",
        "outputId": "00c43bce-42bd-47c6-e598-37706ed8a5ee"
      },
      "execution_count": 11,
      "outputs": [
        {
          "output_type": "stream",
          "name": "stdout",
          "text": [
            "cpu\n",
            "NeuralNetwork(\n",
            "  (flatten): Flatten(start_dim=1, end_dim=-1)\n",
            "  (linear_relu_stack): Sequential(\n",
            "    (0): Linear(in_features=784, out_features=512, bias=True)\n",
            "    (1): ReLU()\n",
            "    (2): Linear(in_features=512, out_features=512, bias=True)\n",
            "    (3): ReLU()\n",
            "    (4): Linear(in_features=512, out_features=10, bias=True)\n",
            "  )\n",
            ")\n"
          ]
        }
      ]
    },
    {
      "cell_type": "code",
      "source": [
        "# optimizing model params\n",
        "loss_fn = nn.CrossEntropyLoss()\n",
        "optimizer = torch.optim.SGD(model.parameters(), lr=1e-3)"
      ],
      "metadata": {
        "id": "iaHqw-oPMEwu"
      },
      "execution_count": 12,
      "outputs": []
    },
    {
      "cell_type": "code",
      "source": [
        "def train(dataloader, model, loss_fn, optimizer):\n",
        "  size = len(dataloader.dataset)\n",
        "  model.train()\n",
        "  for batch, (X,y) in enumerate(dataloader):\n",
        "    X, y = X.to(device), y.to(device)\n",
        "\n",
        "    # prediction error\n",
        "    pred = model(X)\n",
        "    loss = loss_fn(pred, y)\n",
        "\n",
        "    # backpropogation\n",
        "    optimizer.zero_grad()\n",
        "    loss.backward()\n",
        "    optimizer.step()\n",
        "    if batch % 100 == 0:\n",
        "      loss, current = loss.item(), batch * len(X)\n",
        "      print(f'loss: {loss:>7f} [{current:>5d}/{size:>5d}]')"
      ],
      "metadata": {
        "id": "us8SE7BYMVEm"
      },
      "execution_count": 13,
      "outputs": []
    },
    {
      "cell_type": "code",
      "source": [
        "def test(dataloader, model, loss_fn):\n",
        "  size = len(dataloader.dataset)\n",
        "  num_batches = len(dataloader)\n",
        "  model.eval()\n",
        "  test_loss, correct = 0,0\n",
        "  with torch.no_grad():\n",
        "    for X,y in dataloader:\n",
        "      X,y = X.to(device), y.to(device)\n",
        "      pred = model(X)\n",
        "      test_loss += loss_fn(pred, y).item()\n",
        "      correct += (pred.argmax(1)==y).type(torch.float).sum().item()\n",
        "  test_loss /= num_batches\n",
        "  correct /= size\n",
        "  print(f\"Test error: \\n Accuracy: {(100*correct):>0.1f}%, Avg loss: {test_loss:>8f}\\n\")"
      ],
      "metadata": {
        "id": "InJqTaShBzgF"
      },
      "execution_count": 14,
      "outputs": []
    },
    {
      "cell_type": "code",
      "source": [
        "epochs = 5\n",
        "for t in range(epochs):\n",
        "  print(f\"Epoch {t+1}\\n-----------------------\")\n",
        "  train(train_dataloader, model, loss_fn, optimizer)\n",
        "  test(test_dataloader, model, loss_fn)\n",
        "print(\"Done!\")"
      ],
      "metadata": {
        "colab": {
          "base_uri": "https://localhost:8080/"
        },
        "id": "zq3Vm975DzM5",
        "outputId": "47a18ddc-0974-472e-b9f4-81e2efe0e06f"
      },
      "execution_count": 15,
      "outputs": [
        {
          "output_type": "stream",
          "name": "stdout",
          "text": [
            "Epoch 1\n",
            "-----------------------\n",
            "loss: 2.317462 [    0/60000]\n",
            "loss: 2.300936 [ 6400/60000]\n",
            "loss: 2.278818 [12800/60000]\n",
            "loss: 2.255799 [19200/60000]\n",
            "loss: 2.245684 [25600/60000]\n",
            "loss: 2.222616 [32000/60000]\n",
            "loss: 2.233062 [38400/60000]\n",
            "loss: 2.210456 [44800/60000]\n",
            "loss: 2.195853 [51200/60000]\n",
            "loss: 2.149729 [57600/60000]\n",
            "Test error: \n",
            " Accuracy: 38.3%, Avg loss: 2.154625\n",
            "\n",
            "Epoch 2\n",
            "-----------------------\n",
            "loss: 2.182267 [    0/60000]\n",
            "loss: 2.168261 [ 6400/60000]\n",
            "loss: 2.104367 [12800/60000]\n",
            "loss: 2.100064 [19200/60000]\n",
            "loss: 2.053178 [25600/60000]\n",
            "loss: 2.002659 [32000/60000]\n",
            "loss: 2.033689 [38400/60000]\n",
            "loss: 1.965223 [44800/60000]\n",
            "loss: 1.962531 [51200/60000]\n",
            "loss: 1.872918 [57600/60000]\n",
            "Test error: \n",
            " Accuracy: 49.6%, Avg loss: 1.881242\n",
            "\n",
            "Epoch 3\n",
            "-----------------------\n",
            "loss: 1.935456 [    0/60000]\n",
            "loss: 1.902611 [ 6400/60000]\n",
            "loss: 1.780198 [12800/60000]\n",
            "loss: 1.797424 [19200/60000]\n",
            "loss: 1.680118 [25600/60000]\n",
            "loss: 1.652730 [32000/60000]\n",
            "loss: 1.673922 [38400/60000]\n",
            "loss: 1.587349 [44800/60000]\n",
            "loss: 1.602580 [51200/60000]\n",
            "loss: 1.488060 [57600/60000]\n",
            "Test error: \n",
            " Accuracy: 58.2%, Avg loss: 1.509754\n",
            "\n",
            "Epoch 4\n",
            "-----------------------\n",
            "loss: 1.595702 [    0/60000]\n",
            "loss: 1.558390 [ 6400/60000]\n",
            "loss: 1.404148 [12800/60000]\n",
            "loss: 1.457152 [19200/60000]\n",
            "loss: 1.326391 [25600/60000]\n",
            "loss: 1.347846 [32000/60000]\n",
            "loss: 1.361278 [38400/60000]\n",
            "loss: 1.295543 [44800/60000]\n",
            "loss: 1.316565 [51200/60000]\n",
            "loss: 1.217162 [57600/60000]\n",
            "Test error: \n",
            " Accuracy: 62.6%, Avg loss: 1.243161\n",
            "\n",
            "Epoch 5\n",
            "-----------------------\n",
            "loss: 1.331276 [    0/60000]\n",
            "loss: 1.314707 [ 6400/60000]\n",
            "loss: 1.142627 [12800/60000]\n",
            "loss: 1.238232 [19200/60000]\n",
            "loss: 1.103716 [25600/60000]\n",
            "loss: 1.148837 [32000/60000]\n",
            "loss: 1.170314 [38400/60000]\n",
            "loss: 1.114461 [44800/60000]\n",
            "loss: 1.140528 [51200/60000]\n",
            "loss: 1.057216 [57600/60000]\n",
            "Test error: \n",
            " Accuracy: 64.5%, Avg loss: 1.079906\n",
            "\n",
            "Done!\n"
          ]
        }
      ]
    },
    {
      "cell_type": "code",
      "source": [
        "# saving model\n",
        "torch.save(model.state_dict(), \"model.pth\")\n",
        "print(\"Saved model to model.pth\")"
      ],
      "metadata": {
        "colab": {
          "base_uri": "https://localhost:8080/"
        },
        "id": "mOwQtI3HEY3s",
        "outputId": "e5707afa-4f4a-4a95-c39c-3cd70e8aca72"
      },
      "execution_count": 16,
      "outputs": [
        {
          "output_type": "stream",
          "name": "stdout",
          "text": [
            "Saved model to model.pth\n"
          ]
        }
      ]
    },
    {
      "cell_type": "code",
      "source": [
        "# loading models\n",
        "model = NeuralNetwork()\n",
        "model.load_state_dict(torch.load(\"model.pth\"))"
      ],
      "metadata": {
        "colab": {
          "base_uri": "https://localhost:8080/"
        },
        "id": "RaAcR9ESErMB",
        "outputId": "0744958e-6c96-4e6c-a1af-8024a7490dce"
      },
      "execution_count": 17,
      "outputs": [
        {
          "output_type": "execute_result",
          "data": {
            "text/plain": [
              "<All keys matched successfully>"
            ]
          },
          "metadata": {},
          "execution_count": 17
        }
      ]
    },
    {
      "cell_type": "code",
      "source": [
        "classes = [\n",
        "    \"T-shirt/top\",\n",
        "    \"Trouser\",\n",
        "    \"Pullover\",\n",
        "    \"Dress\",\n",
        "    \"Coat\",\n",
        "    \"Sandal\",\n",
        "    \"Shirt\",\n",
        "    \"Sneaker\",\n",
        "    \"Bag\",\n",
        "    \"Ankle boot\",\n",
        "]\n",
        "model.eval()\n",
        "x, y = test_data[0][0], test_data[0][1]\n",
        "with torch.no_grad():\n",
        "  pred = model(x)\n",
        "  predicted, actual = classes[pred[0].argmax(0)], classes[y]\n",
        "  print(f'Predicted: \"{predicted}\", Actual: \"{actual}\"')"
      ],
      "metadata": {
        "colab": {
          "base_uri": "https://localhost:8080/"
        },
        "id": "GyZnD5StE1Hv",
        "outputId": "2459f86d-331e-4d9c-a12a-338edaaeaf76"
      },
      "execution_count": 18,
      "outputs": [
        {
          "output_type": "stream",
          "name": "stdout",
          "text": [
            "Predicted: \"Ankle boot\", Actual: \"Ankle boot\"\n"
          ]
        }
      ]
    },
    {
      "cell_type": "code",
      "source": [
        ""
      ],
      "metadata": {
        "id": "7nnI-kEFGXkC"
      },
      "execution_count": null,
      "outputs": []
    }
  ]
}